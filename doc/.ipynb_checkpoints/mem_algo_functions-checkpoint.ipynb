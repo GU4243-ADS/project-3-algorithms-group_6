{
 "cells": [
  {
   "cell_type": "code",
   "execution_count": 1,
   "metadata": {
    "collapsed": true
   },
   "outputs": [],
   "source": [
    "import numpy as np\n",
    "import pandas as pd\n",
    "import math"
   ]
  },
  {
   "cell_type": "markdown",
   "metadata": {},
   "source": [
    "#### Download and Clean Data"
   ]
  },
  {
   "cell_type": "code",
   "execution_count": 6,
   "metadata": {},
   "outputs": [],
   "source": [
    "ms_train = pd.read_csv(\"..\\\\data\\\\MS_sample\\\\data_train.csv\", index_col = 0)"
   ]
  },
  {
   "cell_type": "code",
   "execution_count": 7,
   "metadata": {},
   "outputs": [
    {
     "data": {
      "text/html": [
       "<div>\n",
       "<style>\n",
       "    .dataframe thead tr:only-child th {\n",
       "        text-align: right;\n",
       "    }\n",
       "\n",
       "    .dataframe thead th {\n",
       "        text-align: left;\n",
       "    }\n",
       "\n",
       "    .dataframe tbody tr th {\n",
       "        vertical-align: top;\n",
       "    }\n",
       "</style>\n",
       "<table border=\"1\" class=\"dataframe\">\n",
       "  <thead>\n",
       "    <tr style=\"text-align: right;\">\n",
       "      <th></th>\n",
       "      <th>V1</th>\n",
       "      <th>V2</th>\n",
       "      <th>V3</th>\n",
       "    </tr>\n",
       "  </thead>\n",
       "  <tbody>\n",
       "    <tr>\n",
       "      <th>1</th>\n",
       "      <td>C</td>\n",
       "      <td>10010</td>\n",
       "      <td>10010</td>\n",
       "    </tr>\n",
       "    <tr>\n",
       "      <th>2</th>\n",
       "      <td>V</td>\n",
       "      <td>1010</td>\n",
       "      <td>1</td>\n",
       "    </tr>\n",
       "    <tr>\n",
       "      <th>3</th>\n",
       "      <td>V</td>\n",
       "      <td>1000</td>\n",
       "      <td>1</td>\n",
       "    </tr>\n",
       "    <tr>\n",
       "      <th>4</th>\n",
       "      <td>V</td>\n",
       "      <td>1011</td>\n",
       "      <td>1</td>\n",
       "    </tr>\n",
       "    <tr>\n",
       "      <th>5</th>\n",
       "      <td>V</td>\n",
       "      <td>1012</td>\n",
       "      <td>1</td>\n",
       "    </tr>\n",
       "  </tbody>\n",
       "</table>\n",
       "</div>"
      ],
      "text/plain": [
       "  V1     V2     V3\n",
       "1  C  10010  10010\n",
       "2  V   1010      1\n",
       "3  V   1000      1\n",
       "4  V   1011      1\n",
       "5  V   1012      1"
      ]
     },
     "execution_count": 7,
     "metadata": {},
     "output_type": "execute_result"
    }
   ],
   "source": [
    "ms_train.head()"
   ]
  },
  {
   "cell_type": "code",
   "execution_count": 15,
   "metadata": {},
   "outputs": [],
   "source": [
    "ms_users = np.sort(pd.unique(ms_train.V1 == \"C\"))\n",
    "ms_vroots = np.sort(pd.unique(ms_train.V1 == \"V\"))"
   ]
  },
  {
   "cell_type": "code",
   "execution_count": 20,
   "metadata": {},
   "outputs": [
    {
     "data": {
      "text/plain": [
       "False"
      ]
     },
     "execution_count": 20,
     "metadata": {},
     "output_type": "execute_result"
    }
   ],
   "source": [
    "ms_users[0]"
   ]
  },
  {
   "cell_type": "markdown",
   "metadata": {},
   "source": [
    "### Write functions"
   ]
  },
  {
   "cell_type": "code",
   "execution_count": 4,
   "metadata": {
    "collapsed": true
   },
   "outputs": [],
   "source": [
    "def pear_corr(x,y):\n",
    "    \n",
    "    #get the means\n",
    "    mu_x = np.mean(x)\n",
    "    mu_y = np.mean(y)\n",
    "    \n",
    "    #get the unnormalized covaraiance\n",
    "    ucovar = sum( (x - mu_x) * (y - mu_y) )\n",
    "    \n",
    "    #get the unnormalized variances\n",
    "    uvar_x = sum( (x - mu_x)^2 )\n",
    "    uvar_y = sum( (y - mu_y)^2 )\n",
    "    \n",
    "    #get the product of the unormalized standard deviations\n",
    "    usds = math.sqrt(uvar_x * uvar_y)\n",
    "    \n",
    "    #compute correlation\n",
    "    corr = ucovar/ usds\n",
    "    \n",
    "    #return the correlation\n",
    "    return corr"
   ]
  },
  {
   "cell_type": "code",
   "execution_count": null,
   "metadata": {
    "collapsed": true
   },
   "outputs": [],
   "source": [
    "def nieghbor_method(X, user_index, movie_index, w_method):\n",
    "    \n",
    "    #make sure its a dataframe\n",
    "    X = pd.Dataframe(X)\n",
    "    \n",
    "    #find the user of interest row array, and its mean\n",
    "    u = X.iloc[user_index, :]\n",
    "    u_mean = np.mean(u)\n",
    "    \n",
    "    #find the other users array\n",
    "    users = X.iloc[:, movie_index]\n",
    "    #get the mean of users, and length\n",
    "    m_users = np.mean(users)\n",
    "    l_users = len(users)\n",
    "    \n",
    "    #prep some arrays\n",
    "    numerator = np.empty(l_users, dtype = float)\n",
    "    denominator = np.empty(l_users, dtype = float)\n",
    "    \n",
    "    #cycle through the users array; make calculations for each user\n",
    "    for i in range(l_users - 1):\n",
    "        \n",
    "        #continue if at user of interest\n",
    "        if (i == user_index):\n",
    "            continue\n",
    "        \n",
    "        #get the weight\n",
    "        w = w_method(u, X[i, :])\n",
    "        \n",
    "        #get the numerator and denominator\n",
    "        numerator[i] = (users[i] - m_users) * w\n",
    "        denominator[i] = w\n",
    "    \n",
    "    #get the new rating\n",
    "    new_rating = u_mean + (sum(numerator)/sum(denominator))\n",
    "    \n",
    "    return new_rating"
   ]
  }
 ],
 "metadata": {
  "kernelspec": {
   "display_name": "Python 3",
   "language": "python",
   "name": "python3"
  },
  "language_info": {
   "codemirror_mode": {
    "name": "ipython",
    "version": 3
   },
   "file_extension": ".py",
   "mimetype": "text/x-python",
   "name": "python",
   "nbconvert_exporter": "python",
   "pygments_lexer": "ipython3",
   "version": "3.6.1"
  }
 },
 "nbformat": 4,
 "nbformat_minor": 2
}
