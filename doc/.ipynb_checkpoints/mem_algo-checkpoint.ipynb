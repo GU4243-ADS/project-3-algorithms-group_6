{
 "cells": [
  {
   "cell_type": "code",
   "execution_count": null,
   "metadata": {
    "collapsed": true
   },
   "outputs": [],
   "source": [
    "import numpy as np\n",
    "import pandas as pd\n",
    "import math"
   ]
  },
  {
   "cell_type": "code",
   "execution_count": null,
   "metadata": {
    "collapsed": true
   },
   "outputs": [],
   "source": [
    "def pear_corr(x,y):\n",
    "    \n",
    "    #get the means\n",
    "    mu_x = np.mean(x)\n",
    "    mu_y = np.mean(y)\n",
    "    \n",
    "    #get the unnormalized covaraiance\n",
    "    ucovar = sum( (x - mu_x) * (y - mu_y) )\n",
    "    \n",
    "    #get the unnormalized variances\n",
    "    uvar_x = sum( (x - mu_x)^2 )\n",
    "    uvar_y = sum( (y - mu_y)^2 )\n",
    "    \n",
    "    #get the product of the unormalized standard deviations\n",
    "    usds = math.sqrt(uvar_x * uvar_y)\n",
    "    \n",
    "    #compute correlation\n",
    "    corr = ucovar/ usds\n",
    "    \n",
    "    #return the correlation\n",
    "    return corr"
   ]
  },
  {
   "cell_type": "code",
   "execution_count": null,
   "metadata": {
    "collapsed": true
   },
   "outputs": [],
   "source": [
    "def niegh_method(X, user_index, movie_index, w_method):\n",
    "    \n",
    "    #make sure its a dataframe\n",
    "    X = pd.Dataframe(X)\n",
    "    \n",
    "    #find the user of interest row array, and its mean\n",
    "    u = X.iloc[user_index, :]\n",
    "    u_mean = np.mean(u)\n",
    "    \n",
    "    #find the other users array\n",
    "    users = X.iloc[:, movie_index]\n",
    "    #get the mean of users, and length\n",
    "    m_users = np.mean(users)\n",
    "    l_users = len(users)\n",
    "    \n",
    "    #prep some arrays\n",
    "    numerator = np.empty(l_users, dtype = float)\n",
    "    denominator = np.empty(l_users, dtype = float)\n",
    "    \n",
    "    #cycle through the users array; make calculations for each user\n",
    "    for i in range(l_users - 1):\n",
    "        \n",
    "        #continue if at user of interest\n",
    "        if (i == user_index):\n",
    "            continue\n",
    "        \n",
    "        #get the weight\n",
    "        w = w_method(u, X[i, :])\n",
    "        \n",
    "        #get the numerator and denominator\n",
    "        numerator[i] = (users[i] - m_users) * w\n",
    "        denominator[i] = w\n",
    "    \n",
    "    #get the new rating\n",
    "    new_rating = u_mean + (sum(numerator)/sum(denominator))\n",
    "    \n",
    "    return new_rating"
   ]
  }
 ],
 "metadata": {
  "kernelspec": {
   "display_name": "Python 3",
   "language": "python",
   "name": "python3"
  },
  "language_info": {
   "codemirror_mode": {
    "name": "ipython",
    "version": 3
   },
   "file_extension": ".py",
   "mimetype": "text/x-python",
   "name": "python",
   "nbconvert_exporter": "python",
   "pygments_lexer": "ipython3",
   "version": "3.6.1"
  }
 },
 "nbformat": 4,
 "nbformat_minor": 2
}
