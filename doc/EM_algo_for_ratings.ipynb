{
 "cells": [
  {
   "cell_type": "code",
   "execution_count": 5,
   "metadata": {
    "collapsed": true
   },
   "outputs": [],
   "source": [
    "import numpy as np\n",
    "import pandas as pd\n",
    "import math\n",
    "import random\n",
    "from operator import mul\n",
    "from functools import reduce"
   ]
  },
  {
   "cell_type": "code",
   "execution_count": null,
   "metadata": {
    "collapsed": true
   },
   "outputs": [],
   "source": [
    "def product_array(array):\n",
    "    '''\n",
    "    Takes the product of all the items in an iterable, one dimensional array\n",
    "    '''\n",
    "    array_prod = 1\n",
    "    for item in array:\n",
    "        array_prod = array_prod * item\n",
    "    return(array_prod)"
   ]
  },
  {
   "cell_type": "code",
   "execution_count": null,
   "metadata": {
    "collapsed": true
   },
   "outputs": [],
   "source": [
    "def likelihood(data, num_users, num_j, num_c, mu, gamma):\n",
    "    \n",
    "    #pre-set arrays for operations\n",
    "    selected_gammas = np.empty(num_j) #need just the number of movies the relevant user voted on, maybe?\n",
    "    selected_mus = np.empty(num_c) #this will actually hold the product of the mus and the gamma product\n",
    "    like_array = np.empty(num_users) #place to store all the parts of the likelihood\n",
    "    \n",
    "    #iterate through the users\n",
    "    for i in range(num_users):\n",
    "        \n",
    "        #iterate through the groups\n",
    "        for c in range(num_c):\n",
    "            \n",
    "            #iterate through the items\n",
    "            for j in range(num_j):\n",
    "                #get the indexes of for the gamma array\n",
    "                index_k = data[i,j] - 1 #subtract 1 to covert the rating to python's indexing\n",
    "                #put the relevant gamma in the array\n",
    "                selected_gammas = gamma[c, j, index_k]\n",
    "            \n",
    "            #take the product of the selected gammas; set gamma_prod to 1 first\n",
    "            gamma_prod = product_array(selected_gammas)\n",
    "            #take gamma_prod, and multiple it by the relevant mu. Put that in a list for later\n",
    "            selected_mus[c] = mu[c] * gamma_prod\n",
    "        \n",
    "        like_array = math.log(sum(selected_mus))\n",
    "        \n",
    "    #get the log likelihood once we exit the loops\n",
    "    log_like = sum(like_array)\n",
    "    \n",
    "    return(log_like)"
   ]
  },
  {
   "cell_type": "code",
   "execution_count": null,
   "metadata": {
    "collapsed": true
   },
   "outputs": [],
   "source": [
    "def E_step(data, num_users, num_j, num_c, mu, gamma):\n",
    "    "
   ]
  },
  {
   "cell_type": "code",
   "execution_count": null,
   "metadata": {
    "collapsed": true
   },
   "outputs": [],
   "source": [
    "def EM_ratings_algo(data, num_c, _num_k, eta):\n",
    "    '''\n",
    "    EM algo for ratings problems\n",
    "    \n",
    "    data is a matrix which contains the users vote value for each item they voted on\n",
    "    c is the number of groups\n",
    "    k is the number of ratings/vote types\n",
    "    eta is the termination threshold\n",
    "    '''\n",
    "    num_users = len(data[,0])\n",
    "    num_j = len(data[0,]) #number of things the users can vote on\n",
    "    \n",
    "    #initialize mu as a vector with a slot of each group. pre-fill it with the uniform\n",
    "    mu = np.empty(num_c)\n",
    "    mu.fill(1/num_c)\n",
    "    #initalize gamma as 3 dimensional array pre-filled with unifrom over ratings space\n",
    "    gamma = np.empty([num_c, num_j, num_k])\n",
    "    gamma.fill(1/num_k)\n",
    "    \n",
    "    \n",
    "    \n",
    "    # E step\n",
    "    \n",
    "    \n",
    "    \n",
    "    \n",
    "    # M step"
   ]
  }
 ],
 "metadata": {
  "kernelspec": {
   "display_name": "Python 3",
   "language": "python",
   "name": "python3"
  },
  "language_info": {
   "codemirror_mode": {
    "name": "ipython",
    "version": 3
   },
   "file_extension": ".py",
   "mimetype": "text/x-python",
   "name": "python",
   "nbconvert_exporter": "python",
   "pygments_lexer": "ipython3",
   "version": "3.6.1"
  }
 },
 "nbformat": 4,
 "nbformat_minor": 2
}
