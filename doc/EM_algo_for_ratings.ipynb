{
 "cells": [
  {
   "cell_type": "code",
   "execution_count": 5,
   "metadata": {
    "collapsed": true
   },
   "outputs": [],
   "source": [
    "import numpy as np\n",
    "import math\n",
    "import random"
   ]
  },
  {
   "cell_type": "code",
   "execution_count": null,
   "metadata": {
    "collapsed": true
   },
   "outputs": [],
   "source": [
    "def product_array(array):\n",
    "    '''\n",
    "    Takes the product of all the items in an iterable, one dimensional array\n",
    "    '''\n",
    "    array_prod = 1\n",
    "    for item in array:\n",
    "        array_prod = array_prod * item\n",
    "    return(array_prod)"
   ]
  },
  {
   "cell_type": "code",
   "execution_count": null,
   "metadata": {
    "collapsed": true
   },
   "outputs": [],
   "source": [
    "def indicator_funct(a,b):\n",
    "    '''\n",
    "    returns 1 if a == b is true; returns 0 if false\n",
    "    '''\n",
    "    if(a == b):\n",
    "        return(1)\n",
    "    else:\n",
    "        return(0)"
   ]
  },
  {
   "cell_type": "code",
   "execution_count": null,
   "metadata": {
    "collapsed": true
   },
   "outputs": [],
   "source": [
    "def likelihood(data, num_users, num_j, num_c, mu, gamma):\n",
    "    '''\n",
    "    Gets the log likelihood of the ratings EM algorithm\n",
    "    '''\n",
    "    #pre-set arrays for operations\n",
    "    selected_gammas = np.empty(num_j) \n",
    "    mu_prob = np.empty(num_c) #this will actually hold the product of the mus and the gamma product\n",
    "    like_array = np.empty(num_users) #place to store all the parts of the likelihood\n",
    "    \n",
    "    #iterate through the users\n",
    "    for i in range(num_users):\n",
    "        \n",
    "        #iterate through the groups\n",
    "        for c in range(num_c):\n",
    "            \n",
    "            #iterate through the items\n",
    "            for j in range(num_j):\n",
    "                #get the indexes of for the gamma array\n",
    "                index_k = data[i,j] - 1 #subtract 1 to covert the rating to python's indexing\n",
    "                #put the relevant gamma in the array\n",
    "                selected_gammas = gamma[c, j, index_k]\n",
    "            \n",
    "            #take the product of the selected gammas; set gamma_prod to 1 first\n",
    "            gamma_prod = product_array(selected_gammas)\n",
    "            \n",
    "            #take gamma_prod, and multiple it by the relevant mu. Put that in a list for later\n",
    "            mu_prob[c] = mu[c] * gamma_prod\n",
    "        \n",
    "        #calculate a portion of the log likelihood\n",
    "        like_array = math.log(sum(mu_prob))\n",
    "        \n",
    "    #get the log likelihood once we exit the loops\n",
    "    log_like = sum(like_array)\n",
    "    \n",
    "    return(log_like)"
   ]
  },
  {
   "cell_type": "code",
   "execution_count": null,
   "metadata": {
    "collapsed": true
   },
   "outputs": [],
   "source": [
    "def E_step(data, num_users, num_j, num_c, mu, gamma):\n",
    "    '''\n",
    "    Expectation step of of the rankings EM algorithm; returns the assignment matrix\n",
    "    '''\n",
    "    \n",
    "    #allocate assignment matrix\n",
    "    a = np.empty([num_users, num_c])\n",
    "    \n",
    "    #pre-set arrays for operations\n",
    "    selected_gammas = np.empty(num_j) #need just the number of movies the relevant user voted on, maybe?\n",
    "    mu_prob = np.empty(num_c) #this will actually hold the product of the mus and the gamma product\n",
    "    \n",
    "    #loop through the users\n",
    "    for i in range(num_users):\n",
    "        \n",
    "        #loop through the groups\n",
    "        for c in range(num_c):\n",
    "            \n",
    "            #get an array of the relevant gammas times the relevant mus\n",
    "            \n",
    "            #iterate through the items\n",
    "            for j in range(num_j):\n",
    "                #get the indexes of for the gamma array\n",
    "                index_k = data[i,j] - 1 #subtract 1 to covert the rating to python's indexing\n",
    "                #put the relevant gamma in the array\n",
    "                selected_gammas = gamma[c, j, index_k]\n",
    "            \n",
    "            #take the product of the selected gammas\n",
    "            gamma_prod = product_array(selected_gammas)\n",
    "            \n",
    "            #take gamma_prod, and multiple it by the relevant mu. Put that in a list for later\n",
    "            mu_prob[c] = mu[c] * gamma_prod\n",
    "            \n",
    "        #get the sum of seleced_mus\n",
    "        total_mu = sum(mu_prob)\n",
    "        \n",
    "        #calculate a. This requires looping through the mu_prob array\n",
    "        for c in range(num_c):\n",
    "            a[i,c] = mu_prob[c]/total_mu\n",
    "        \n",
    "        \n",
    "    return(a)"
   ]
  },
  {
   "cell_type": "code",
   "execution_count": null,
   "metadata": {
    "collapsed": true
   },
   "outputs": [],
   "source": [
    "def M_step(data, num_users, num_j, num_c, num_k, a):\n",
    "    '''\n",
    "    computes the M step of the ratings EM algorithm. Returns a tuple containing mu and gamma\n",
    "    '''\n",
    "    #allocate new mu and gamma\n",
    "    new_mu = np.empty(num_c)\n",
    "    new_gamma = np.empty([num_c, num_j, num_k])\n",
    "    \n",
    "    #allocate tmp_a_col\n",
    "    tmp_a_col = np.empty(num_users)\n",
    "    \n",
    "    for(c in range(num_c)):\n",
    "        \n",
    "        #get the relevant column of a, and its sum\n",
    "        a_col = a[,c]\n",
    "        a_col_sum = sum(a_col)\n",
    "        \n",
    "        #fill new mu\n",
    "        new_mu = a_col_sum/num_user\n",
    "        \n",
    "        #now start to fill the new gamma\n",
    "        for(j in range(num_j)):\n",
    "            \n",
    "            for(k in range(num_k)):\n",
    "                \n",
    "                for(i in range(num_users)):\n",
    "                    \n",
    "                    tmp_a_col = a[i,c] * indicator_funct(data[i,j] - 1, k)\n",
    "                \n",
    "                new_gamma[c, j, k] = sum(tmp_a_col)/a_col_sum\n",
    "    \n",
    "    return((new_mu, new_gamma)\n",
    "    "
   ]
  },
  {
   "cell_type": "code",
   "execution_count": null,
   "metadata": {
    "collapsed": true
   },
   "outputs": [],
   "source": [
    "def EM_ratings_algo(data, num_c, _num_k, eta, h = 1000):\n",
    "    '''\n",
    "    EM algo for ratings problems. Returns a tuple with mu (a 1 dim array) and gamma (a 3 dim array)\n",
    "    \n",
    "    data is a matrix which contains the users' vote value for each item they voted on\n",
    "    c is the number of groups\n",
    "    k is the number of ratings/vote types\n",
    "    eta is the termination threshold\n",
    "    h is the cap on iterations of the while loop\n",
    "    '''\n",
    "    #get the dimensions of the data\n",
    "    num_users = len(data[,0])\n",
    "    num_j = len(data[0,]) #number of things the users can vote on\n",
    "    \n",
    "    #initialize mu as a vector with a slot of each group. pre-fill it with the uniform\n",
    "    mu = np.empty(num_c)\n",
    "    mu.fill(1/num_c)\n",
    "    \n",
    "    #initalize gamma as 3 dimensional array pre-filled with unifrom over ratings space\n",
    "    gamma = np.empty([num_c, num_j, num_k])\n",
    "    gamma.fill(1/num_k)\n",
    "    \n",
    "    #counter t\n",
    "    t = 0\n",
    "    \n",
    "    #run the actual\n",
    "    while(likelihood(data, num_users, num_j, num_c, mu, gamma) > eta and t < h):\n",
    "        t = t + 1\n",
    "        \n",
    "        #E step\n",
    "        a = E_step(data, num_users, num_j, num_c, mu, gamma)\n",
    "        \n",
    "        #M step\n",
    "        mu, gamma = M_step(data, num_users, num_j, num_c, num_k, a)\n",
    "    \n",
    "    \n",
    "    return((mu, gamma))"
   ]
  }
 ],
 "metadata": {
  "kernelspec": {
   "display_name": "Python 3",
   "language": "python",
   "name": "python3"
  },
  "language_info": {
   "codemirror_mode": {
    "name": "ipython",
    "version": 3
   },
   "file_extension": ".py",
   "mimetype": "text/x-python",
   "name": "python",
   "nbconvert_exporter": "python",
   "pygments_lexer": "ipython3",
   "version": "3.6.1"
  }
 },
 "nbformat": 4,
 "nbformat_minor": 2
}
